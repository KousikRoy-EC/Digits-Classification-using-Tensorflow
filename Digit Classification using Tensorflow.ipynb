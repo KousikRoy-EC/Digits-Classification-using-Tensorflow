{
 "cells": [
  {
   "cell_type": "code",
   "execution_count": 29,
   "id": "e531f3ee",
   "metadata": {},
   "outputs": [],
   "source": [
    "import tensorflow.compat.v1 as tf\n",
    "from matplotlib import pyplot as plt;\n",
    "import numpy as np;\n",
    "tf.disable_v2_behavior()"
   ]
  },
  {
   "cell_type": "code",
   "execution_count": 30,
   "id": "60fc888c",
   "metadata": {},
   "outputs": [],
   "source": [
    "from tensorflow.keras.datasets import mnist"
   ]
  },
  {
   "cell_type": "code",
   "execution_count": 31,
   "id": "0adcf477",
   "metadata": {},
   "outputs": [],
   "source": [
    "(x_train, y_train), (x_test, y_test) = mnist.load_data()"
   ]
  },
  {
   "cell_type": "code",
   "execution_count": 32,
   "id": "3632de41",
   "metadata": {},
   "outputs": [
    {
     "data": {
      "text/plain": [
       "((60000, 28, 28), (60000,), (10000, 28, 28), (10000,))"
      ]
     },
     "execution_count": 32,
     "metadata": {},
     "output_type": "execute_result"
    }
   ],
   "source": [
    "x_train.shape,y_train.shape,x_test.shape,y_test.shape"
   ]
  },
  {
   "cell_type": "code",
   "execution_count": 33,
   "id": "596a381a",
   "metadata": {},
   "outputs": [],
   "source": [
    "new_x_train=[[0] for i in range(x_train.shape[0])];\n",
    "             \n",
    "for i in range(x_train.shape[0]):\n",
    "    array=np.array(x_train[i]);\n",
    "    array=array.reshape((784,));\n",
    "    new_x_train[i]=array;\n",
    "\n",
    "x_train=np.array(new_x_train);"
   ]
  },
  {
   "cell_type": "code",
   "execution_count": 34,
   "id": "07157168",
   "metadata": {},
   "outputs": [],
   "source": [
    "new_x_test=[[0] for i in range(x_test.shape[0])];\n",
    "             \n",
    "for i in range(x_test.shape[0]):\n",
    "    array=np.array(x_test[i]);\n",
    "    array=array.reshape((784,));\n",
    "    new_x_test[i]=array;\n",
    "\n",
    "x_test=np.array(new_x_test)"
   ]
  },
  {
   "cell_type": "code",
   "execution_count": 35,
   "id": "a292985d",
   "metadata": {},
   "outputs": [],
   "source": [
    "sess=tf.Session()\n",
    "y_test=tf.one_hot(y_test,10);\n",
    "y_train=tf.one_hot(y_train,10);\n",
    "y_train=sess.run(y_train);\n",
    "y_test=sess.run(y_test);"
   ]
  },
  {
   "cell_type": "code",
   "execution_count": 36,
   "id": "725f0bc2",
   "metadata": {},
   "outputs": [
    {
     "data": {
      "image/png": "[encoded data removed]",
      "text/plain": [
       "<Figure size 432x288 with 1 Axes>"
      ]
     },
     "metadata": {
      "needs_background": "light"
     },
     "output_type": "display_data"
    }
   ],
   "source": [
    "first_img=x_train[2090].reshape(28,28);\n",
    "plt.imshow(first_img);\n",
    "plt.show();"
   ]
  },
  {
   "cell_type": "code",
   "execution_count": 37,
   "id": "a858341e",
   "metadata": {},
   "outputs": [],
   "source": [
    "n_input=784;\n",
    "hd1_layer=784;\n",
    "hd2_layer=784;\n",
    "n_output=10;"
   ]
  },
  {
   "cell_type": "code",
   "execution_count": 38,
   "id": "84125d2f",
   "metadata": {},
   "outputs": [],
   "source": [
    "weights={\n",
    "    'h1':tf.Variable(tf.random_normal([n_input,hd1_layer])),\n",
    "    'h2':tf.Variable(tf.random_normal([hd1_layer,hd2_layer])),\n",
    "    'out':tf.Variable(tf.random_normal([hd2_layer,n_output])),\n",
    "}"
   ]
  },
  {
   "cell_type": "code",
   "execution_count": 39,
   "id": "57b1822c",
   "metadata": {},
   "outputs": [],
   "source": [
    "biases={\n",
    "    'h1':tf.Variable(tf.random_normal([hd1_layer])),\n",
    "    'h2':tf.Variable(tf.random_normal([hd2_layer])),\n",
    "    'out':tf.Variable(tf.random_normal([n_output])),\n",
    "}"
   ]
  },
  {
   "cell_type": "code",
   "execution_count": 40,
   "id": "bada8375",
   "metadata": {},
   "outputs": [],
   "source": [
    "def forwardPropagation(x,weights,biases):\n",
    "    input_layer1=tf.add(tf.matmul(x,weights['h1']),biases['h1']);\n",
    "    output_layer1=tf.nn.relu(input_layer1);\n",
    "    \n",
    "    input_layer2=tf.add(tf.matmul(output_layer1,weights['h2']),biases['h2']);\n",
    "    output_layer2=tf.nn.relu(input_layer2);\n",
    "    \n",
    "    output=tf.add(tf.matmul(output_layer2,weights['out']),biases['out']);\n",
    "    return output;"
   ]
  },
  {
   "cell_type": "code",
   "execution_count": 41,
   "id": "7bdac6d9",
   "metadata": {},
   "outputs": [],
   "source": [
    "x=tf.placeholder(tf.float32,[None,n_input]);\n",
    "y=tf.placeholder(tf.int32,[None,n_output]);"
   ]
  },
  {
   "cell_type": "code",
   "execution_count": 42,
   "id": "a24ec3c4",
   "metadata": {},
   "outputs": [],
   "source": [
    "pred=forwardPropagation(x,weights,biases);\n",
    "predictions=tf.argmax(pred,1);\n",
    "true_label=tf.argmax(y,1);\n",
    "correct_pred=tf.equal(predictions,true_label);"
   ]
  },
  {
   "cell_type": "code",
   "execution_count": 43,
   "id": "53fe06e3",
   "metadata": {},
   "outputs": [],
   "source": [
    "cost=tf.reduce_mean(tf.nn.softmax_cross_entropy_with_logits(logits=pred,labels=y));"
   ]
  },
  {
   "cell_type": "code",
   "execution_count": 44,
   "id": "44bd40c5",
   "metadata": {
    "scrolled": true
   },
   "outputs": [],
   "source": [
    "optimizer=tf.train.AdamOptimizer(learning_rate=0.01);\n",
    "optimize=optimizer.minimize(cost)"
   ]
  },
  {
   "cell_type": "code",
   "execution_count": 45,
   "id": "45ea30d7",
   "metadata": {},
   "outputs": [],
   "source": [
    "sess = tf.Session()\n",
    "sess.run(tf.global_variables_initializer())"
   ]
  },
  {
   "cell_type": "code",
   "execution_count": 46,
   "id": "e15dfd2e",
   "metadata": {},
   "outputs": [
    {
     "name": "stdout",
     "output_type": "stream",
     "text": [
      "cost :  972639.44\n"
     ]
    }
   ],
   "source": [
    "predict,label,correct_pred,train_cost=sess.run([predictions,true_label,correct_pred,cost],feed_dict={x:x_train,y:y_train});\n",
    "print(\"cost : \",train_cost);"
   ]
  },
  {
   "cell_type": "code",
   "execution_count": 47,
   "id": "65c7b290",
   "metadata": {},
   "outputs": [
    {
     "data": {
      "text/plain": [
       "0.12058333333333333"
      ]
     },
     "execution_count": 47,
     "metadata": {},
     "output_type": "execute_result"
    }
   ],
   "source": [
    "from sklearn.metrics import f1_score\n",
    "f1_score(label, predict, zero_division=1,average='micro')"
   ]
  },
  {
   "cell_type": "code",
   "execution_count": 48,
   "id": "f3fa2db6",
   "metadata": {},
   "outputs": [
    {
     "name": "stdout",
     "output_type": "stream",
     "text": [
      "7654095.775390625\n",
      "915412.37109375\n",
      "402907.7607421875\n",
      "227367.8018798828\n",
      "150038.5180053711\n",
      "97918.71151733398\n",
      "70037.55172729492\n",
      "76075.50082397461\n",
      "71605.86785888672\n",
      "52227.07189941406\n",
      "34965.53370666504\n",
      "23579.295480966568\n",
      "16711.268283367157\n",
      "9675.37609243393\n",
      "6818.3324982225895\n",
      "4487.517153831082\n",
      "4647.795177936554\n",
      "5499.209362387657\n",
      "5387.209184169769\n",
      "5071.225520849228\n"
     ]
    }
   ],
   "source": [
    "batch_size=1000;\n",
    "no_of_batch=int(x_train.shape[0]/batch_size);\n",
    "\n",
    "for i in range(20):\n",
    "    cost_val=0;\n",
    "    start=1;\n",
    "    end=1001;\n",
    "    for j in range(no_of_batch):\n",
    "        x_batch=x_train[start:end];\n",
    "        y_batch=y_train[start:end];\n",
    "        c,opt=sess.run([cost,optimize],feed_dict={x:x_batch,y:y_batch});\n",
    "        cost_val +=c\n",
    "        start+=1000;\n",
    "        end+=1000;\n",
    "    print(cost_val);"
   ]
  },
  {
   "cell_type": "code",
   "execution_count": 49,
   "id": "84e68fba",
   "metadata": {},
   "outputs": [
    {
     "name": "stdout",
     "output_type": "stream",
     "text": [
      "cost :  47.931774\n"
     ]
    }
   ],
   "source": [
    "predict,label,new_cost=sess.run([predictions,true_label,cost],feed_dict={x:x_train,y:y_train});\n",
    "print(\"cost : \",new_cost);"
   ]
  },
  {
   "cell_type": "code",
   "execution_count": 50,
   "id": "fc8fe681",
   "metadata": {},
   "outputs": [
    {
     "data": {
      "text/plain": [
       "0.9987833333333334"
      ]
     },
     "execution_count": 50,
     "metadata": {},
     "output_type": "execute_result"
    }
   ],
   "source": [
    "from sklearn.metrics import f1_score\n",
    "f1_score(label, predict, zero_division=1,average='micro')"
   ]
  },
  {
   "cell_type": "code",
   "execution_count": 51,
   "id": "b6fa9039",
   "metadata": {},
   "outputs": [
    {
     "name": "stdout",
     "output_type": "stream",
     "text": [
      "cost :  7105.5503\n"
     ]
    }
   ],
   "source": [
    "predict_test,label_test,test_cost=sess.run([predictions,true_label,cost],feed_dict={x:x_test,y:y_test});\n",
    "print(\"cost : \",test_cost);"
   ]
  },
  {
   "cell_type": "code",
   "execution_count": 52,
   "id": "90019f1b",
   "metadata": {},
   "outputs": [
    {
     "data": {
      "text/plain": [
       "array([[ 962,    0,    2,    2,    0,    1,    6,    1,    4,    2],\n",
       "       [   0, 1118,    5,    0,    1,    0,    2,    3,    6,    0],\n",
       "       [   3,    0, 1010,    3,    1,    0,    3,    5,    7,    0],\n",
       "       [   0,    0,    8,  968,    0,   14,    1,    5,    8,    6],\n",
       "       [   2,    1,    7,    1,  942,    1,    3,    1,    4,   20],\n",
       "       [   4,    1,    0,   10,    2,  862,    6,    1,    4,    2],\n",
       "       [   4,    2,    1,    1,    3,    8,  933,    1,    5,    0],\n",
       "       [   1,    2,   16,    1,    4,    0,    0,  993,    3,    8],\n",
       "       [   3,    1,    5,   14,    1,    6,    6,    5,  925,    8],\n",
       "       [   1,    3,    4,    3,   13,    6,    1,    4,    7,  967]],\n",
       "      dtype=int64)"
      ]
     },
     "execution_count": 52,
     "metadata": {},
     "output_type": "execute_result"
    }
   ],
   "source": [
    "from sklearn.metrics import confusion_matrix\n",
    "confusion_matrix(label_test, predict_test)"
   ]
  },
  {
   "cell_type": "code",
   "execution_count": 53,
   "id": "0c20ae3f",
   "metadata": {},
   "outputs": [
    {
     "data": {
      "text/plain": [
       "0.968"
      ]
     },
     "execution_count": 53,
     "metadata": {},
     "output_type": "execute_result"
    }
   ],
   "source": [
    "from sklearn.metrics import f1_score\n",
    "f1_score(label_test, predict_test, zero_division=1,average='micro')"
   ]
  }
 ],
 "metadata": {
  "kernelspec": {
   "display_name": "Python 3",
   "language": "python",
   "name": "python3"
  },
  "language_info": {
   "codemirror_mode": {
    "name": "ipython",
    "version": 3
   },
   "file_extension": ".py",
   "mimetype": "text/x-python",
   "name": "python",
   "nbconvert_exporter": "python",
   "pygments_lexer": "ipython3",
   "version": "3.10.6 (tags/v3.10.6:9c7b4bd, Aug  1 2022, 21:53:49) [MSC v.1932 64 bit (AMD64)]"
  },
  "vscode": {
   "interpreter": {
    "hash": "a775d68c7caa7466e6467fb23007def76106cad7ddbb74102d7b5c3b443bac69"
   }
  }
 },
 "nbformat": 4,
 "nbformat_minor": 5
}
